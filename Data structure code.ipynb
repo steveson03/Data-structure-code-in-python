{
 "cells": [
  {
   "cell_type": "code",
   "execution_count": 5,
   "id": "546643ac",
   "metadata": {},
   "outputs": [
    {
     "name": "stdout",
     "output_type": "stream",
     "text": [
      "Input the radius of the circle:  1.1\n",
      "Area of the circle is: 3.8013271108436504\n"
     ]
    }
   ],
   "source": [
    "import math\n",
    "radius = float(input(\"Input the radius of the circle:  \"))\n",
    "\n",
    "area = math.pi*radius*radius\n",
    "\n",
    "print(\"Area of the circle is: {0}\".format(area))\n",
    "\n"
   ]
  },
  {
   "cell_type": "code",
   "execution_count": 7,
   "id": "bb465dce",
   "metadata": {},
   "outputs": [
    {
     "name": "stdout",
     "output_type": "stream",
     "text": [
      "Input The FileName: abc.python\n",
      "The extension of the file is: 'python'\n"
     ]
    }
   ],
   "source": [
    "fileName = input(\"Input The FileName: \")\n",
    "file_extns = fileName.split(\".\")\n",
    "\n",
    "print(\"The extension of the file is: \"+ repr(file_extns[-1]))"
   ]
  },
  {
   "cell_type": "code",
   "execution_count": null,
   "id": "78e27ab9",
   "metadata": {},
   "outputs": [],
   "source": []
  },
  {
   "cell_type": "code",
   "execution_count": null,
   "id": "9c44cf23",
   "metadata": {},
   "outputs": [],
   "source": []
  },
  {
   "cell_type": "code",
   "execution_count": null,
   "id": "3ead49d8",
   "metadata": {},
   "outputs": [],
   "source": []
  }
 ],
 "metadata": {
  "kernelspec": {
   "display_name": "Python 3 (ipykernel)",
   "language": "python",
   "name": "python3"
  },
  "language_info": {
   "codemirror_mode": {
    "name": "ipython",
    "version": 3
   },
   "file_extension": ".py",
   "mimetype": "text/x-python",
   "name": "python",
   "nbconvert_exporter": "python",
   "pygments_lexer": "ipython3",
   "version": "3.9.6"
  }
 },
 "nbformat": 4,
 "nbformat_minor": 5
}
